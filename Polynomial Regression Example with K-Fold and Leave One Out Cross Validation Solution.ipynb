{
 "cells": [
  {
   "cell_type": "markdown",
   "id": "f11811d4",
   "metadata": {},
   "source": [
    "# Polynomial Regression Example with K-Fold and Leave One Out Cross Validation Solution\n",
    "\n",
    "We have a small dataset with 100 rows and 2 columns. This is a nonlinear regression example and we will use polynomial regression. And also, when we use polynomial regression, we have to specify **degree** value. In this example, we will find which degree is optimum error value and then, we will evaluate the degree by the result."
   ]
  },
  {
   "cell_type": "code",
   "execution_count": 616,
   "id": "2ceab731",
   "metadata": {},
   "outputs": [],
   "source": [
    "import pandas as pd\n",
    "import numpy as np\n",
    "import matplotlib.pyplot as plt\n",
    "\n",
    "import warnings\n",
    "warnings.filterwarnings(\"ignore\")"
   ]
  },
  {
   "cell_type": "code",
   "execution_count": 617,
   "id": "59731195",
   "metadata": {},
   "outputs": [],
   "source": [
    "from sklearn.preprocessing import PolynomialFeatures\n",
    "from sklearn.linear_model import LinearRegression\n",
    "from sklearn.model_selection import train_test_split,KFold,LeaveOneOut\n",
    "from sklearn.metrics import mean_squared_error,r2_score"
   ]
  },
  {
   "cell_type": "code",
   "execution_count": 618,
   "id": "dbcaea7a",
   "metadata": {},
   "outputs": [
    {
     "data": {
      "text/html": [
       "<div>\n",
       "<style scoped>\n",
       "    .dataframe tbody tr th:only-of-type {\n",
       "        vertical-align: middle;\n",
       "    }\n",
       "\n",
       "    .dataframe tbody tr th {\n",
       "        vertical-align: top;\n",
       "    }\n",
       "\n",
       "    .dataframe thead th {\n",
       "        text-align: right;\n",
       "    }\n",
       "</style>\n",
       "<table border=\"1\" class=\"dataframe\">\n",
       "  <thead>\n",
       "    <tr style=\"text-align: right;\">\n",
       "      <th></th>\n",
       "      <th>x</th>\n",
       "      <th>y</th>\n",
       "    </tr>\n",
       "  </thead>\n",
       "  <tbody>\n",
       "    <tr>\n",
       "      <th>0</th>\n",
       "      <td>-4.809264</td>\n",
       "      <td>-92.911272</td>\n",
       "    </tr>\n",
       "    <tr>\n",
       "      <th>1</th>\n",
       "      <td>-4.722680</td>\n",
       "      <td>-98.506658</td>\n",
       "    </tr>\n",
       "    <tr>\n",
       "      <th>2</th>\n",
       "      <td>-3.852326</td>\n",
       "      <td>-63.212666</td>\n",
       "    </tr>\n",
       "    <tr>\n",
       "      <th>3</th>\n",
       "      <td>-3.687668</td>\n",
       "      <td>-51.036538</td>\n",
       "    </tr>\n",
       "    <tr>\n",
       "      <th>4</th>\n",
       "      <td>-3.602674</td>\n",
       "      <td>-54.784580</td>\n",
       "    </tr>\n",
       "    <tr>\n",
       "      <th>...</th>\n",
       "      <td>...</td>\n",
       "      <td>...</td>\n",
       "    </tr>\n",
       "    <tr>\n",
       "      <th>95</th>\n",
       "      <td>6.890595</td>\n",
       "      <td>39.282364</td>\n",
       "    </tr>\n",
       "    <tr>\n",
       "      <th>96</th>\n",
       "      <td>7.118811</td>\n",
       "      <td>49.384561</td>\n",
       "    </tr>\n",
       "    <tr>\n",
       "      <th>97</th>\n",
       "      <td>7.178848</td>\n",
       "      <td>51.564875</td>\n",
       "    </tr>\n",
       "    <tr>\n",
       "      <th>98</th>\n",
       "      <td>7.942389</td>\n",
       "      <td>85.676290</td>\n",
       "    </tr>\n",
       "    <tr>\n",
       "      <th>99</th>\n",
       "      <td>9.658969</td>\n",
       "      <td>184.533262</td>\n",
       "    </tr>\n",
       "  </tbody>\n",
       "</table>\n",
       "<p>100 rows × 2 columns</p>\n",
       "</div>"
      ],
      "text/plain": [
       "           x           y\n",
       "0  -4.809264  -92.911272\n",
       "1  -4.722680  -98.506658\n",
       "2  -3.852326  -63.212666\n",
       "3  -3.687668  -51.036538\n",
       "4  -3.602674  -54.784580\n",
       "..       ...         ...\n",
       "95  6.890595   39.282364\n",
       "96  7.118811   49.384561\n",
       "97  7.178848   51.564875\n",
       "98  7.942389   85.676290\n",
       "99  9.658969  184.533262\n",
       "\n",
       "[100 rows x 2 columns]"
      ]
     },
     "execution_count": 618,
     "metadata": {},
     "output_type": "execute_result"
    }
   ],
   "source": [
    "#data is a linear regression model\n",
    "data=pd.read_csv(\"datalar/Exercise1DataSet.csv\")\n",
    "data"
   ]
  },
  {
   "cell_type": "code",
   "execution_count": 619,
   "id": "5bfdd622",
   "metadata": {},
   "outputs": [],
   "source": [
    "#data.info()"
   ]
  },
  {
   "cell_type": "code",
   "execution_count": 620,
   "id": "4f2443fb",
   "metadata": {},
   "outputs": [],
   "source": [
    "#data.describe()"
   ]
  },
  {
   "cell_type": "code",
   "execution_count": 621,
   "id": "744959ae",
   "metadata": {},
   "outputs": [],
   "source": [
    "x=np.array(data[\"x\"].values.reshape(-1,1))\n",
    "#x"
   ]
  },
  {
   "cell_type": "code",
   "execution_count": 622,
   "id": "7eae66b0",
   "metadata": {},
   "outputs": [],
   "source": [
    "y=np.array(data[\"y\"].values)\n",
    "#y"
   ]
  },
  {
   "cell_type": "markdown",
   "id": "ed398f4c",
   "metadata": {},
   "source": [
    "*In polynomial regression, we cannot fit it directly like normal linear regression. For this reason, it is necessary to do preprocessing first. After this stage, we perform pre-processing according to the desired degree and create a table with as many independent variables as the number of degrees. Now we can create an equation by performing linear regression with the fit process. At this stage, we train the train to create an equation from the train, valid and test data we used in the train test split stage. Then, we have our valid data predicted just like the test data set. However, there is an important point: we act as if we do not have test data, that is, we store it (it will be used at the last stage).*"
   ]
  },
  {
   "cell_type": "code",
   "execution_count": 623,
   "id": "e2554081",
   "metadata": {},
   "outputs": [],
   "source": [
    "\"\"\"\n",
    "create a function to calculate polinomial regression\n",
    "\"\"\"\n",
    "\n",
    "def create_pol_regression(degree):\n",
    "    poly_features=PolynomialFeatures(degree=degree,include_bias=False)\n",
    "    \n",
    "    #train ve valid için fit transform ile bağımsız değişkenler oluştur(ön işleme)\n",
    "    x_train_poly=poly_features.fit_transform(x_trainv)\n",
    "    x_valid_poly=poly_features.fit_transform(x_valid)\n",
    "    \n",
    "    #yeni bağımsız featurlerden sadece x_train_poly için fit işlemi yapacağız \n",
    "    poly_model=LinearRegression()\n",
    "    poly_model.fit(x_train_poly,y_trainv) #elimizde bir denklem var\n",
    "    \n",
    "    #bu aşamada hem train hem de valid için tahminleme yaptıralım\n",
    "    y_train_pred=poly_model.predict(x_train_poly)\n",
    "    y_valid_pred=poly_model.predict(x_valid_poly)\n",
    "    \n",
    "    #hem train tahmin hem de valid tahmin için scoreları belirleyelim\n",
    "    mse_train=mean_squared_error(y_trainv,y_train_pred)\n",
    "    mse_valid=mean_squared_error(y_valid,y_valid_pred)\n",
    "    \n",
    "    return(mse_train,mse_valid,degree)"
   ]
  },
  {
   "cell_type": "code",
   "execution_count": 624,
   "id": "03732911",
   "metadata": {},
   "outputs": [],
   "source": [
    "#let's split the data as train and test\n",
    "x_train,x_test,y_train,y_test=train_test_split(x,y,test_size=0.2,random_state=1)"
   ]
  },
  {
   "cell_type": "code",
   "execution_count": 625,
   "id": "072f2b31",
   "metadata": {},
   "outputs": [
    {
     "data": {
      "text/plain": [
       "80"
      ]
     },
     "execution_count": 625,
     "metadata": {},
     "output_type": "execute_result"
    }
   ],
   "source": [
    "len(x_train)"
   ]
  },
  {
   "cell_type": "code",
   "execution_count": 626,
   "id": "24af192f",
   "metadata": {},
   "outputs": [
    {
     "data": {
      "text/plain": [
       "80"
      ]
     },
     "execution_count": 626,
     "metadata": {},
     "output_type": "execute_result"
    }
   ],
   "source": [
    "len(y_train)"
   ]
  },
  {
   "cell_type": "code",
   "execution_count": 627,
   "id": "a7be2058",
   "metadata": {
    "scrolled": true
   },
   "outputs": [
    {
     "data": {
      "text/plain": [
       "64"
      ]
     },
     "execution_count": 627,
     "metadata": {},
     "output_type": "execute_result"
    }
   ],
   "source": [
    "len(y_trainv)"
   ]
  },
  {
   "cell_type": "markdown",
   "id": "d544d369",
   "metadata": {},
   "source": [
    "In the second stage, we will perform Leave One Out cross validation with 2 for loops, and we will use the degree that gives the most optimum validation error that we have determined at this point in the next stages.*\n",
    "\n",
    "1. for: for degrees\n",
    "\n",
    "2. for: to break down the data for train and validation"
   ]
  },
  {
   "cell_type": "code",
   "execution_count": 628,
   "id": "3f7c1c67",
   "metadata": {
    "scrolled": true
   },
   "outputs": [
    {
     "data": {
      "text/html": [
       "<div>\n",
       "<style scoped>\n",
       "    .dataframe tbody tr th:only-of-type {\n",
       "        vertical-align: middle;\n",
       "    }\n",
       "\n",
       "    .dataframe tbody tr th {\n",
       "        vertical-align: top;\n",
       "    }\n",
       "\n",
       "    .dataframe thead th {\n",
       "        text-align: right;\n",
       "    }\n",
       "</style>\n",
       "<table border=\"1\" class=\"dataframe\">\n",
       "  <thead>\n",
       "    <tr style=\"text-align: right;\">\n",
       "      <th></th>\n",
       "      <th>Validation Error Mean</th>\n",
       "      <th>Degree</th>\n",
       "    </tr>\n",
       "  </thead>\n",
       "  <tbody>\n",
       "    <tr>\n",
       "      <th>0</th>\n",
       "      <td>522.536143</td>\n",
       "      <td>1</td>\n",
       "    </tr>\n",
       "    <tr>\n",
       "      <th>1</th>\n",
       "      <td>615.206270</td>\n",
       "      <td>2</td>\n",
       "    </tr>\n",
       "    <tr>\n",
       "      <th>2</th>\n",
       "      <td>10.257541</td>\n",
       "      <td>3</td>\n",
       "    </tr>\n",
       "    <tr>\n",
       "      <th>3</th>\n",
       "      <td>12.556636</td>\n",
       "      <td>4</td>\n",
       "    </tr>\n",
       "    <tr>\n",
       "      <th>4</th>\n",
       "      <td>15.705177</td>\n",
       "      <td>5</td>\n",
       "    </tr>\n",
       "    <tr>\n",
       "      <th>5</th>\n",
       "      <td>34.482614</td>\n",
       "      <td>6</td>\n",
       "    </tr>\n",
       "    <tr>\n",
       "      <th>6</th>\n",
       "      <td>19.589947</td>\n",
       "      <td>7</td>\n",
       "    </tr>\n",
       "    <tr>\n",
       "      <th>7</th>\n",
       "      <td>48.197852</td>\n",
       "      <td>8</td>\n",
       "    </tr>\n",
       "  </tbody>\n",
       "</table>\n",
       "</div>"
      ],
      "text/plain": [
       "   Validation Error Mean  Degree\n",
       "0             522.536143       1\n",
       "1             615.206270       2\n",
       "2              10.257541       3\n",
       "3              12.556636       4\n",
       "4              15.705177       5\n",
       "5              34.482614       6\n",
       "6              19.589947       7\n",
       "7              48.197852       8"
      ]
     },
     "execution_count": 628,
     "metadata": {},
     "output_type": "execute_result"
    }
   ],
   "source": [
    "from sklearn.model_selection import LeaveOneOut\n",
    "loo=LeaveOneOut()\n",
    "LeaveOneOutCV=[] # We added the average of the errors found for each degree\n",
    "\n",
    "for j in range(1,9):\n",
    "    LeaveOneOutError=[] #adds each sample point here\n",
    "    for train_index,validation_index in loo.split(x_train):\n",
    "        #We separated the data as train and validation as leave one out cross validation\n",
    "        x_trainv,x_valid=x_train[train_index],x_train[validation_index]\n",
    "        y_trainv,y_valid=y_train[train_index],y_train[validation_index]\n",
    "        \n",
    "        #Let's run our polynomial regression function\n",
    "        LeaveOneOutError.append(create_pol_regression(j))\n",
    "        df=pd.DataFrame(LeaveOneOutError,columns=[\"Train Error\",\"Validation Error\",\"Degree\"])\n",
    "    LeaveOneOutCV.append([df[\"Validation Error\"].mean(),df[\"Degree\"][0]])\n",
    "LOOCV=pd.DataFrame(LeaveOneOutCV,columns=[\"Validation Error Mean\",\"Degree\"])\n",
    "    \n",
    "LOOCV  # best rank error is 3"
   ]
  },
  {
   "cell_type": "code",
   "execution_count": 629,
   "id": "51094f57",
   "metadata": {},
   "outputs": [
    {
     "data": {
      "text/plain": [
       "<function matplotlib.pyplot.show(close=None, block=None)>"
      ]
     },
     "execution_count": 629,
     "metadata": {},
     "output_type": "execute_result"
    },
    {
     "data": {
      "image/png": "[encoded data removed]",
      "text/plain": [
       "<Figure size 768x576 with 1 Axes>"
      ]
     },
     "metadata": {},
     "output_type": "display_data"
    }
   ],
   "source": [
    "plt.figure(dpi=120)\n",
    "plt.plot(LOOCV[\"Degree\"].values,LOOCV[\"Validation Error Mean\"].values,label=\"Validation Error Mean\")\n",
    "plt.xlabel(\"Degree\")\n",
    "plt.ylabel(\"Validation Error Mean\")\n",
    "plt.legend(loc=\"lower center\", bbox_to_anchor=(0.5,1.02))\n",
    "plt.show"
   ]
  },
  {
   "cell_type": "code",
   "execution_count": 630,
   "id": "7dcca9ec",
   "metadata": {},
   "outputs": [
    {
     "name": "stdout",
     "output_type": "stream",
     "text": [
      "<class 'pandas.core.frame.DataFrame'>\n"
     ]
    },
    {
     "data": {
      "text/plain": [
       "3"
      ]
     },
     "execution_count": 630,
     "metadata": {},
     "output_type": "execute_result"
    }
   ],
   "source": [
    "best_degree=LOOCV.sort_values(by=\"Validation Error Mean\").iloc[0,1]\n",
    "#LOOCV=LOOCV.iloc[0]\n",
    "print(type(LOOCV))\n",
    "best_degree"
   ]
  },
  {
   "cell_type": "code",
   "execution_count": 631,
   "id": "583ab221",
   "metadata": {
    "scrolled": true
   },
   "outputs": [
    {
     "data": {
      "text/html": [
       "<div>\n",
       "<style scoped>\n",
       "    .dataframe tbody tr th:only-of-type {\n",
       "        vertical-align: middle;\n",
       "    }\n",
       "\n",
       "    .dataframe tbody tr th {\n",
       "        vertical-align: top;\n",
       "    }\n",
       "\n",
       "    .dataframe thead th {\n",
       "        text-align: right;\n",
       "    }\n",
       "</style>\n",
       "<table border=\"1\" class=\"dataframe\">\n",
       "  <thead>\n",
       "    <tr style=\"text-align: right;\">\n",
       "      <th></th>\n",
       "      <th>MSE Train</th>\n",
       "      <th>MSE Validation</th>\n",
       "    </tr>\n",
       "    <tr>\n",
       "      <th>Degree</th>\n",
       "      <th></th>\n",
       "      <th></th>\n",
       "    </tr>\n",
       "  </thead>\n",
       "  <tbody>\n",
       "    <tr>\n",
       "      <th>3</th>\n",
       "      <td>8.516339</td>\n",
       "      <td>0.689653</td>\n",
       "    </tr>\n",
       "  </tbody>\n",
       "</table>\n",
       "</div>"
      ],
      "text/plain": [
       "        MSE Train  MSE Validation\n",
       "Degree                           \n",
       "3        8.516339        0.689653"
      ]
     },
     "execution_count": 631,
     "metadata": {},
     "output_type": "execute_result"
    }
   ],
   "source": [
    "MSE=[create_pol_regression(degree=best_degree)]\n",
    "MSE=pd.DataFrame(MSE,columns=[\"MSE Train\",\"MSE Validation\",\"Degree\"])\n",
    "MSE.set_index(\"Degree\",inplace=True)\n",
    "MSE"
   ]
  },
  {
   "cell_type": "code",
   "execution_count": 632,
   "id": "3535217e",
   "metadata": {},
   "outputs": [],
   "source": [
    "#df"
   ]
  },
  {
   "cell_type": "markdown",
   "id": "ad41bde9",
   "metadata": {},
   "source": [
    "***We now know it has 3 degrees. Let's find the scores of our test set over 3 degrees.***\n",
    "\n",
    "But move forward dynamically. So instead of directly giving 3 as a constant, write a code that gives us the best rank."
   ]
  },
  {
   "attachments": {},
   "cell_type": "markdown",
   "id": "ddc884cd",
   "metadata": {},
   "source": [
    "***Refit your model on the training set with the selected degree of polynomial and compute the test mean squared error.***"
   ]
  },
  {
   "cell_type": "code",
   "execution_count": 633,
   "id": "2d879be9",
   "metadata": {},
   "outputs": [
    {
     "name": "stdout",
     "output_type": "stream",
     "text": [
      "Coefficient value: [ 0.49548162 -2.04609807  0.41702238]\n",
      "İntercept values: -2.3541830603701936\n",
      "MSE Test Score: 9.569802779249255\n"
     ]
    }
   ],
   "source": [
    "poly_features=PolynomialFeatures(degree=best_degree, include_bias=False)\n",
    "x_train_poly=poly_features.fit_transform(x_train)\n",
    "poly_model=LinearRegression()\n",
    "poly_model.fit(x_train_poly,y_train)\n",
    "print(\"Coefficient value:\",poly_model.coef_)\n",
    "print(\"İntercept values:\",poly_model.intercept_)\n",
    "\n",
    "\n",
    "x_test_poly=poly_features.fit_transform(x_test)\n",
    "y_test_prediction=poly_model.predict(x_test_poly)\n",
    "mse_test=mean_squared_error(y_test,y_test_prediction)\n",
    "print(\"MSE Test Score:\",mse_test)"
   ]
  },
  {
   "attachments": {},
   "cell_type": "markdown",
   "id": "80791af7",
   "metadata": {},
   "source": [
    "***Try different degrees of polynomial functions and pick the one that has the smallest 5-fold cross validation mean squared error, and report 5-fold cross validation errors of each polynomial functions.***"
   ]
  },
  {
   "cell_type": "code",
   "execution_count": 634,
   "id": "b8e54525",
   "metadata": {},
   "outputs": [
    {
     "data": {
      "text/html": [
       "<div>\n",
       "<style scoped>\n",
       "    .dataframe tbody tr th:only-of-type {\n",
       "        vertical-align: middle;\n",
       "    }\n",
       "\n",
       "    .dataframe tbody tr th {\n",
       "        vertical-align: top;\n",
       "    }\n",
       "\n",
       "    .dataframe thead th {\n",
       "        text-align: right;\n",
       "    }\n",
       "</style>\n",
       "<table border=\"1\" class=\"dataframe\">\n",
       "  <thead>\n",
       "    <tr style=\"text-align: right;\">\n",
       "      <th></th>\n",
       "      <th>Validation</th>\n",
       "      <th>Degree</th>\n",
       "    </tr>\n",
       "  </thead>\n",
       "  <tbody>\n",
       "    <tr>\n",
       "      <th>0</th>\n",
       "      <td>498.439106</td>\n",
       "      <td>1</td>\n",
       "    </tr>\n",
       "    <tr>\n",
       "      <th>1</th>\n",
       "      <td>610.895517</td>\n",
       "      <td>2</td>\n",
       "    </tr>\n",
       "    <tr>\n",
       "      <th>2</th>\n",
       "      <td>11.279685</td>\n",
       "      <td>3</td>\n",
       "    </tr>\n",
       "    <tr>\n",
       "      <th>3</th>\n",
       "      <td>16.563823</td>\n",
       "      <td>4</td>\n",
       "    </tr>\n",
       "    <tr>\n",
       "      <th>4</th>\n",
       "      <td>23.546781</td>\n",
       "      <td>5</td>\n",
       "    </tr>\n",
       "    <tr>\n",
       "      <th>5</th>\n",
       "      <td>26.533180</td>\n",
       "      <td>6</td>\n",
       "    </tr>\n",
       "    <tr>\n",
       "      <th>6</th>\n",
       "      <td>34.096785</td>\n",
       "      <td>7</td>\n",
       "    </tr>\n",
       "    <tr>\n",
       "      <th>7</th>\n",
       "      <td>154.840635</td>\n",
       "      <td>8</td>\n",
       "    </tr>\n",
       "  </tbody>\n",
       "</table>\n",
       "</div>"
      ],
      "text/plain": [
       "   Validation  Degree\n",
       "0  498.439106       1\n",
       "1  610.895517       2\n",
       "2   11.279685       3\n",
       "3   16.563823       4\n",
       "4   23.546781       5\n",
       "5   26.533180       6\n",
       "6   34.096785       7\n",
       "7  154.840635       8"
      ]
     },
     "execution_count": 634,
     "metadata": {},
     "output_type": "execute_result"
    }
   ],
   "source": [
    "kfold=KFold(n_splits=5,shuffle=True, random_state=42)\n",
    "X_train, X_test, Y_train, Y_test = train_test_split(x, y, test_size=0.2, random_state=5)\n",
    "\n",
    "Kfold_CV=[] #ortalamasını al\n",
    "for j in range(1,9):\n",
    "    KFold_train_valid=[] #train-valid datasetlerinin parçalanmış hali\n",
    "    Kfold_Errors=[]\n",
    "    \n",
    "    for train_index,validation_index in kfold.split(x_train):\n",
    "        x_trainv,x_valid=X_train[train_index],X_train[validation_index]\n",
    "        y_trainv,y_valid=Y_train[train_index],Y_train[validation_index]\n",
    "        \n",
    "        #KFold_train_valid.append([x_train[train_index],x_train[validation_index]])\n",
    "        #data=pd.DataFrame(KFold_train_valid,columns=[\"x train\",\"x valid\"])\n",
    "        \n",
    "        #tüm derecelerin hatalarını bulalım\n",
    "        Kfold_Errors.append(create_pol_regression(j))\n",
    "        Errors=pd.DataFrame(Kfold_Errors,columns=[\"MSE Training\",\"MSE Validation\",\"Degree\"])\n",
    "        \n",
    "        \n",
    "        #her derceye ait hata ortalamalarını bulalım\n",
    "    Kfold_CV.append([Errors[\"MSE Validation\"].mean(),Errors[\"Degree\"][0]])\n",
    "df=pd.DataFrame(Kfold_CV,columns=[\"Validation\",\"Degree\"])\n",
    "        \n",
    "#data\n",
    "#Errors\n",
    "df"
   ]
  },
  {
   "cell_type": "code",
   "execution_count": 635,
   "id": "df3344b6",
   "metadata": {},
   "outputs": [
    {
     "data": {
      "text/plain": [
       "<function matplotlib.pyplot.show(close=None, block=None)>"
      ]
     },
     "execution_count": 635,
     "metadata": {},
     "output_type": "execute_result"
    },
    {
     "data": {
      "image/png": "[encoded data removed]",
      "text/plain": [
       "<Figure size 768x576 with 1 Axes>"
      ]
     },
     "metadata": {},
     "output_type": "display_data"
    }
   ],
   "source": [
    "plt.figure(dpi=120)\n",
    "plt.plot(df[\"Degree\"].values,df[\"Validation\"].values,label=\"K-Fold Validation Error Mean\")\n",
    "plt.xlabel(\"Degree\")\n",
    "plt.ylabel(\"Validation Error Mean\")\n",
    "plt.legend(loc=\"lower center\", bbox_to_anchor=(0.5,1.02))\n",
    "plt.show"
   ]
  },
  {
   "cell_type": "code",
   "execution_count": 636,
   "id": "b109008e",
   "metadata": {},
   "outputs": [
    {
     "data": {
      "text/plain": [
       "3"
      ]
     },
     "execution_count": 636,
     "metadata": {},
     "output_type": "execute_result"
    }
   ],
   "source": [
    "best_min_degree=int(df.sort_values(by=\"Validation\",ascending=True).iloc[0,1])\n",
    "best_min_degree"
   ]
  },
  {
   "attachments": {},
   "cell_type": "markdown",
   "id": "2ac3db10",
   "metadata": {},
   "source": [
    "***Refit your model on the training set with the selected degree of polynomial and compute the test mean squared error and test R2 score.***"
   ]
  },
  {
   "cell_type": "code",
   "execution_count": 637,
   "id": "adb2b433",
   "metadata": {},
   "outputs": [
    {
     "name": "stdout",
     "output_type": "stream",
     "text": [
      "Coefficient value: [ 0.52644037 -2.08036056  0.41840872]\n",
      "İntercept values: -1.7598861910294135\n",
      "MSE Test Score: 7.106966845948219\n",
      "R2 Test Score: 0.9603145469268793\n"
     ]
    }
   ],
   "source": [
    "poly_features=PolynomialFeatures(degree=best_min_degree, include_bias=False)\n",
    "X_train_poly=poly_features.fit_transform(X_train)\n",
    "poly_model=LinearRegression()\n",
    "poly_model.fit(X_train_poly,Y_train)\n",
    "print(\"Coefficient value:\",poly_model.coef_)\n",
    "print(\"İntercept values:\",poly_model.intercept_)\n",
    "\n",
    "\n",
    "X_test_poly=poly_features.fit_transform(X_test)\n",
    "Y_test_prediction=poly_model.predict(X_test_poly)\n",
    "mse_test=mean_squared_error(Y_test,Y_test_prediction)\n",
    "r2_test_score=r2_score(Y_test,Y_test_prediction)\n",
    "print(\"MSE Test Score:\",mse_test)\n",
    "print(\"R2 Test Score:\",r2_test_score)"
   ]
  },
  {
   "attachments": {},
   "cell_type": "markdown",
   "id": "27055976",
   "metadata": {},
   "source": [
    "***Are the degrees of polynomials chosen with LOOCV and 5-fold cross validation same?***"
   ]
  },
  {
   "cell_type": "code",
   "execution_count": 638,
   "id": "b5db69c1",
   "metadata": {},
   "outputs": [
    {
     "name": "stdout",
     "output_type": "stream",
     "text": [
      "LOOCV and K-Fold degree result is the same. Chosen degree is 3\n"
     ]
    }
   ],
   "source": [
    "if best_degree==best_min_degree:\n",
    "    print(f\"LOOCV and K-Fold degree result is the same. Chosen degree is {best_degree}\")\n",
    "else:\n",
    "    print(\"LOOCV and K-Fold degree result isn't the same.\")"
   ]
  },
  {
   "cell_type": "code",
   "execution_count": null,
   "id": "c1e2c255",
   "metadata": {},
   "outputs": [],
   "source": []
  }
 ],
 "metadata": {
  "kernelspec": {
   "display_name": "Python 3 (ipykernel)",
   "language": "python",
   "name": "python3"
  },
  "language_info": {
   "codemirror_mode": {
    "name": "ipython",
    "version": 3
   },
   "file_extension": ".py",
   "mimetype": "text/x-python",
   "name": "python",
   "nbconvert_exporter": "python",
   "pygments_lexer": "ipython3",
   "version": "3.11.5"
  }
 },
 "nbformat": 4,
 "nbformat_minor": 5
}
